{
  "nbformat": 4,
  "nbformat_minor": 0,
  "metadata": {
    "colab": {
      "name": "US_Stock_Momentum.ipynb",
      "provenance": [],
      "collapsed_sections": []
    },
    "kernelspec": {
      "name": "python3",
      "display_name": "Python 3"
    },
    "language_info": {
      "name": "python"
    }
  },
  "cells": [
    {
      "cell_type": "code",
      "metadata": {
        "id": "94SmZvyCR0WE"
      },
      "source": [
        "# !pip install yfinance -q \n",
        "import yfinance as yf \n",
        "import pandas as pd\n",
        "import requests\n",
        "from tqdm import tqdm\n",
        "from sklearn.metrics import accuracy_score, classification_report, roc_auc_score\n",
        "from sklearn.ensemble import RandomForestClassifier"
      ],
      "execution_count": 1,
      "outputs": []
    },
    {
      "cell_type": "code",
      "metadata": {
        "colab": {
          "base_uri": "https://localhost:8080/"
        },
        "id": "1XYJk6HySHxL",
        "outputId": "679df75a-ed84-4401-f1ff-cd07b294d634"
      },
      "source": [
        "def watchlist():\n",
        "    '''\n",
        "    以S&P500成份股 + ARK ETF前30大持股為篩選範圍\n",
        "    '''\n",
        "    web = requests.get(\n",
        "        \"https://www.slickcharts.com/sp500\",\n",
        "        headers={\n",
        "            \"User-Agent\": \"Mozilla/5.0 (Windows NT 10.0; Win64; x64) AppleWebKit/537.36 (KHTML, like Gecko) Chrome/81.0.4044.129 Safari/537.36\"\n",
        "        },\n",
        "    ).text\n",
        "    sid1 = pd.read_html(web)[0][\"Symbol\"].apply(lambda x: x.replace(\".\", \"-\")).to_list()\n",
        "    ark = pd.read_html(\"https://cathiesark.com/ark-funds-combined/complete-holdings\")[\n",
        "        0\n",
        "    ][\"Ticker\"][1:31].to_list()\n",
        "    res = list(set(sid1 + ark))\n",
        "    return res\n",
        "    \n",
        "watchlist = watchlist()\n",
        "\n",
        "\n",
        "sids = []\n",
        "def algo(strategy = 'new'):\n",
        "    '''\n",
        "    old條件比較龜毛 vs new條件較簡潔\n",
        "    '''\n",
        "    if strategy == 'old':\n",
        "        for i in tqdm(watchlist):\n",
        "            try:\n",
        "                df = yf.Ticker(i).history(period = '2mo').iloc[:,:5]\n",
        "                \"\"\"\n",
        "                1. 開盤價跳空2%以上\n",
        "                2. 近10天有2天以上跳空2%\n",
        "                3. 當天實體K棒漲幅3%以上\n",
        "                4. 近10天有2天以上出現過漲3%的實體K棒\n",
        "                5. 連續3天高過昨高且低不破昨低\n",
        "                6. 近10天有6天高過昨高且低不破昨低\n",
        "                7. 最新收盤價距離近10日新高不到3%\n",
        "                8. 當天成交量是過去10日的1.3倍\n",
        "                \"\"\"\n",
        "                cond1 = df[\"Open\"] > df[\"Close\"].shift() * 1.02\n",
        "                cond2 = cond1.rolling(10).sum() >= 2\n",
        "                cond3 = df[\"Close\"] > df[\"Open\"] * 1.03\n",
        "                cond4 = cond3.rolling(10).sum() >= 2\n",
        "                cond5 = ((df[\"High\"] > df[\"High\"].shift()) & (df[\"Low\"] > df[\"Low\"].shift())).rolling(3).sum() >= 3\n",
        "                cond6 = ((df[\"High\"] > df[\"High\"].shift()) & (df[\"Low\"] > df[\"Low\"].shift())).rolling(10).sum() >= 6\n",
        "                cond7 = df[\"Close\"] * 1.03 > df[\"Close\"].rolling(10).max()\n",
        "                cond8 = df[\"Volume\"] > df[\"Volume\"].rolling(10).mean() * 1.3\n",
        "\n",
        "                buy = pd.concat([cond1, cond2, cond3, cond4, cond5, cond6, cond7, cond8], axis=1)\n",
        "                if (buy[-1:].sum(axis=1) >= 6).values[0]:\n",
        "                    sids.append(i)\n",
        "\n",
        "            except Exception as e:\n",
        "                continue\n",
        "\n",
        "    elif strategy == 'new':\n",
        "        for i in tqdm(watchlist):\n",
        "            try:\n",
        "                df = yf.Ticker(i).history(period = '2mo').iloc[:,:5]\n",
        "                \"\"\"\n",
        "                1. 最新收盤價距離近月新高不到3%\n",
        "                2. 當天紅K棒是過去10日平均實體K棒的2.5倍\n",
        "                3. 當天成交量是過去5日的1.3倍\n",
        "                4. 過去5天出現過5ma向上穿越10ma\n",
        "                \"\"\"\n",
        "                cond1 = df[\"Close\"] * 1.03 > df[\"High\"].rolling(22).max()\n",
        "                cond2 = (df[\"Close\"] - df[\"Open\"]) > abs(df[\"Open\"] - df[\"Close\"]).rolling(10).mean() * 2.5\n",
        "                cond3 = df[\"Volume\"] > df[\"Volume\"].rolling(5).mean() * 1.3\n",
        "                duo_ma = df[\"Close\"].rolling(5).mean() >= df[\"Close\"].rolling(10).mean()\n",
        "                cond4 = (duo_ma == True) & ((duo_ma != duo_ma.shift()).rolling(5).sum() == 1)\n",
        "\n",
        "                buy = pd.concat([cond1, cond2, cond3, cond4], axis=1)\n",
        "                if (buy[-1:].sum(axis=1) >= 3).values[0]:\n",
        "                    sids.append(i)\n",
        "        \n",
        "            except Exception as e:\n",
        "                continue\n",
        "\n",
        "    return sids\n",
        "\n",
        "algo('new')"
      ],
      "execution_count": 2,
      "outputs": [
        {
          "output_type": "stream",
          "name": "stderr",
          "text": [
            "100%|██████████| 532/532 [05:14<00:00,  1.69it/s]\n"
          ]
        },
        {
          "output_type": "execute_result",
          "data": {
            "text/plain": [
              "['O', 'FTV', 'BAX']"
            ]
          },
          "metadata": {},
          "execution_count": 2
        }
      ]
    },
    {
      "cell_type": "code",
      "metadata": {
        "colab": {
          "base_uri": "https://localhost:8080/",
          "height": 80
        },
        "id": "Kk3Ice4mSZF-",
        "outputId": "5b3ec96a-b715-44b5-c500-9c0d4c8d6f95"
      },
      "source": [
        "def roc_auc(sid, lookback_period):\n",
        "    '''\n",
        "    4個選股條件即為特徵值x\n",
        "    Y籤標為隔天能否漲贏 Nasdaq (ticker: ^IXIC)\n",
        "    '''\n",
        "    df = yf.Ticker(sid).history(period = lookback_period).iloc[:,:5]\n",
        "    cond1 = (df['Close'] * 1.03 > df['High'].rolling(22).max())\n",
        "    cond2 = ((df['Close'] - df['Open']) > abs(df['Open'] - df['Close']).rolling(10).mean() * 2.5)\n",
        "    cond3 = (df['Volume'] > df['Volume'].rolling(5).mean() * 1.3)\n",
        "    duo_ma = df['Close'].rolling(5).mean() >= df['Close'].rolling(10).mean()\n",
        "    cond4 = ((duo_ma == True) & ((duo_ma != duo_ma.shift()).rolling(5).sum() == 1))\n",
        "    Y = df['Close'].pct_change().shift(-1) > yf.Ticker('^IXIC').history(period = lookback_period).iloc[:,3].pct_change().shift(-1)\n",
        "    data = pd.concat([cond1, cond2, cond3, cond4, Y], axis = 1)\n",
        "    data.columns = ['x1','x2','x3','x4','Y']\n",
        "    \n",
        "    # 已經調用過未來一天的預測，故需在原資料刪除\n",
        "    data = data[:-1]\n",
        "    return data\n",
        "\n",
        "\n",
        "# 從候選股中擇一做ROC/AUC檢定，回測過去30個月\n",
        "data = roc_auc('FTV','30mo')\n",
        "\n",
        "# 訓練集為回測區間的前80%，測試集為回測區間的後20%\n",
        "train_data, test_data = data[ :int(len(data) *0.8)], data[int(len(data) *0.8): ]\n",
        "\n",
        "train_x = train_data.loc[:,'x1':'x4'].values\n",
        "train_y = train_data['Y'].values\n",
        "test_x = test_data.loc[:,'x1':'x4'].values\n",
        "test_y = test_data['Y'].values\n",
        "\n",
        "clf = RandomForestClassifier(n_estimators = 21,\n",
        "                             max_depth = 10,\n",
        "                             criterion = 'entropy')\n",
        "\n",
        "model = clf.fit(train_x,train_y)  \n",
        "train_acc = accuracy_score(train_y, model.predict(train_x))\n",
        "test_acc = accuracy_score(test_y, model.predict(test_x))\n",
        "test_roc_auc = roc_auc_score(test_y, model.predict( test_x))\n",
        "\n",
        "result = pd.DataFrame(\n",
        "    [ (train_acc, test_acc, test_roc_auc) ],\n",
        "    columns= ['訓練集準度','測試集準度','測試集ROC_AUC'],\n",
        "    )\n",
        "\n",
        "result"
      ],
      "execution_count": 3,
      "outputs": [
        {
          "output_type": "execute_result",
          "data": {
            "text/html": [
              "<div>\n",
              "<style scoped>\n",
              "    .dataframe tbody tr th:only-of-type {\n",
              "        vertical-align: middle;\n",
              "    }\n",
              "\n",
              "    .dataframe tbody tr th {\n",
              "        vertical-align: top;\n",
              "    }\n",
              "\n",
              "    .dataframe thead th {\n",
              "        text-align: right;\n",
              "    }\n",
              "</style>\n",
              "<table border=\"1\" class=\"dataframe\">\n",
              "  <thead>\n",
              "    <tr style=\"text-align: right;\">\n",
              "      <th></th>\n",
              "      <th>訓練集準度</th>\n",
              "      <th>測試集準度</th>\n",
              "      <th>測試集ROC_AUC</th>\n",
              "    </tr>\n",
              "  </thead>\n",
              "  <tbody>\n",
              "    <tr>\n",
              "      <th>0</th>\n",
              "      <td>0.553571</td>\n",
              "      <td>0.484127</td>\n",
              "      <td>0.479587</td>\n",
              "    </tr>\n",
              "  </tbody>\n",
              "</table>\n",
              "</div>"
            ],
            "text/plain": [
              "      訓練集準度     測試集準度  測試集ROC_AUC\n",
              "0  0.553571  0.484127    0.479587"
            ]
          },
          "metadata": {},
          "execution_count": 3
        }
      ]
    }
  ]
}
