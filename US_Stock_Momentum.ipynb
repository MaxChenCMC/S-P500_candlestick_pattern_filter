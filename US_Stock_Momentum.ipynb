{
  "nbformat": 4,
  "nbformat_minor": 2,
  "metadata": {
    "colab": {
      "name": "US_Stock_Momentum.ipynb",
      "provenance": [],
      "collapsed_sections": []
    },
    "kernelspec": {
      "name": "python3",
      "display_name": "Python 3"
    },
    "language_info": {
      "name": "python"
    }
  },
  "cells": [
    {
      "cell_type": "code",
      "execution_count": 1,
      "source": [
        "# !pip install yfinance -q \r\n",
        "import yfinance as yf \r\n",
        "import pandas as pd\r\n",
        "import requests\r\n",
        "from tqdm import tqdm\r\n",
        "from sklearn.metrics import accuracy_score, classification_report, roc_auc_score\r\n",
        "from sklearn.ensemble import RandomForestClassifier"
      ],
      "outputs": [],
      "metadata": {
        "id": "94SmZvyCR0WE"
      }
    },
    {
      "cell_type": "code",
      "execution_count": 2,
      "source": [
        "def screener_tickers():\r\n",
        "    '''\r\n",
        "    以yahoo finance推薦的篩選條件做為為選股範圍\r\n",
        "    '''\r\n",
        "    urls = [('https://finance.yahoo.com/screener/predefined/undervalued_growth_stocks?offset=0&count=100'),\r\n",
        "            ('https://finance.yahoo.com/screener/predefined/growth_technology_stocks?offset=0&count=100'),\r\n",
        "            ('https://finance.yahoo.com/screener/predefined/day_gainers?offset=0&count=100'),\r\n",
        "            ('https://finance.yahoo.com/screener/predefined/most_actives?offset=0&count=100'),\r\n",
        "            ('https://finance.yahoo.com/screener/predefined/undervalued_large_caps?offset=0&count=100'),\r\n",
        "            ('https://finance.yahoo.com/screener/predefined/aggressive_small_caps?offset=0&count=100'),\r\n",
        "            ('https://finance.yahoo.com/screener/predefined/small_cap_gainers?offset=0&count=100')]\r\n",
        "    \r\n",
        "    screener_list = []\r\n",
        "    for url in urls:\r\n",
        "        soup = BeautifulSoup(requests.get(url).content)\r\n",
        "        res = soup.find_all('a', {'class':'Fw(600) C($linkColor)'})\r\n",
        "        data =  [res[i].string for i in range(len(res))]\r\n",
        "        screener_list += data\r\n",
        "    \r\n",
        "    return list(set(screener_list))\r\n",
        "\r\n",
        "\r\n",
        "def watchlist():\r\n",
        "    '''\r\n",
        "    以S&P500成份股 + ARK ETF前30大持股為篩選範圍\r\n",
        "    '''\r\n",
        "    web = requests.get('https://www.slickcharts.com/sp500',\r\n",
        "                    headers = {'User-Agent': 'Mozilla/5.0 (Windows NT 10.0; Win64; x64) AppleWebKit/537.36 (KHTML, like Gecko) Chrome/81.0.4044.129 Safari/537.36'}).text\r\n",
        "    sp500 = pd.read_html(web)[0]['Symbol'].apply(lambda x: x.replace('.', '-')).to_list()\r\n",
        "    ark = pd.read_html('https://cathiesark.com/ark-funds-combined/complete-holdings')[0]['Ticker'][1:31].to_list()\r\n",
        "    res = list(set(sp500 + ark + screener_tickers()))  \r\n",
        "    return res\r\n",
        "\r\n",
        "sids = []\r\n",
        "def algo(strategy = 'new'):\r\n",
        "    '''\r\n",
        "    old條件比較龜毛 vs new條件較簡潔\r\n",
        "    '''\r\n",
        "    if strategy == 'old':\r\n",
        "        for i in tqdm(watchlist()):\r\n",
        "            try:\r\n",
        "                df = yf.Ticker(i).history(period = '2mo').iloc[:,:5]\r\n",
        "                \"\"\"\r\n",
        "                1. 開盤價跳空2%以上\r\n",
        "                2. 近10天有2天以上跳空2%\r\n",
        "                3. 當天實體K棒漲幅3%以上\r\n",
        "                4. 近10天有2天以上出現過漲3%的實體K棒\r\n",
        "                5. 連續3天高過昨高且低不破昨低\r\n",
        "                6. 近10天有6天高過昨高且低不破昨低\r\n",
        "                7. 最新收盤價距離近10日新高不到3%\r\n",
        "                8. 當天成交量是過去10日的1.3倍\r\n",
        "                \"\"\"\r\n",
        "                cond1 = df[\"Open\"] > df[\"Close\"].shift() * 1.02\r\n",
        "                cond2 = cond1.rolling(10).sum() >= 2\r\n",
        "                cond3 = df[\"Close\"] > df[\"Open\"] * 1.03\r\n",
        "                cond4 = cond3.rolling(10).sum() >= 2\r\n",
        "                cond5 = ((df[\"High\"] > df[\"High\"].shift()) & (df[\"Low\"] > df[\"Low\"].shift())).rolling(3).sum() >= 3\r\n",
        "                cond6 = ((df[\"High\"] > df[\"High\"].shift()) & (df[\"Low\"] > df[\"Low\"].shift())).rolling(10).sum() >= 6\r\n",
        "                cond7 = df[\"Close\"] * 1.03 > df[\"Close\"].rolling(10).max()\r\n",
        "                cond8 = df[\"Volume\"] > df[\"Volume\"].rolling(10).mean() * 1.3\r\n",
        "\r\n",
        "                buy = pd.concat([cond1, cond2, cond3, cond4, cond5, cond6, cond7, cond8], axis=1)\r\n",
        "                if (buy[-1:].sum(axis=1) >= 6).values[0]:\r\n",
        "                    sids.append(i)\r\n",
        "\r\n",
        "            except Exception as e:\r\n",
        "                continue\r\n",
        "\r\n",
        "    elif strategy == 'new':\r\n",
        "        for i in tqdm(watchlist()):\r\n",
        "            try:\r\n",
        "                df = yf.Ticker(i).history(period = '2mo').iloc[:,:5]\r\n",
        "                \"\"\"\r\n",
        "                1. 最新收盤價距離近月新高不到3%\r\n",
        "                2. 當天紅K棒是過去10日平均實體K棒的2.5倍\r\n",
        "                3. 當天成交量是過去5日的1.3倍\r\n",
        "                4. 過去5天出現過5ma向上穿越10ma\r\n",
        "                \"\"\"\r\n",
        "                cond1 = df[\"Close\"] * 1.03 > df[\"High\"].rolling(22).max()\r\n",
        "                cond2 = (df[\"Close\"] - df[\"Open\"]) > abs(df[\"Open\"] - df[\"Close\"]).rolling(10).mean() * 2.5\r\n",
        "                cond3 = df[\"Volume\"] > df[\"Volume\"].rolling(5).mean() * 1.3\r\n",
        "                duo_ma = df[\"Close\"].rolling(5).mean() >= df[\"Close\"].rolling(10).mean()\r\n",
        "                cond4 = (duo_ma == True) & ((duo_ma != duo_ma.shift()).rolling(5).sum() == 1)\r\n",
        "\r\n",
        "                buy = pd.concat([cond1, cond2, cond3, cond4], axis=1)\r\n",
        "                if (buy[-1:].sum(axis=1) >= 3).values[0]:\r\n",
        "                    sids.append(i)\r\n",
        "        \r\n",
        "            except Exception as e:\r\n",
        "                continue\r\n",
        "\r\n",
        "    return sids\r\n",
        "\r\n",
        "algo('new')"
      ],
      "outputs": [
        {
          "output_type": "stream",
          "name": "stderr",
          "text": [
            "100%|██████████| 532/532 [05:14<00:00,  1.69it/s]\n"
          ]
        },
        {
          "output_type": "execute_result",
          "data": {
            "text/plain": [
              "['O', 'FTV', 'BAX']"
            ]
          },
          "metadata": {},
          "execution_count": 2
        }
      ],
      "metadata": {
        "colab": {
          "base_uri": "https://localhost:8080/"
        },
        "id": "1XYJk6HySHxL",
        "outputId": "679df75a-ed84-4401-f1ff-cd07b294d634"
      }
    },
    {
      "cell_type": "code",
      "execution_count": 3,
      "source": [
        "def roc_auc(sid, lookback_period):\r\n",
        "    '''\r\n",
        "    4個選股條件即為特徵值x\r\n",
        "    Y籤標為隔天能否漲贏 Nasdaq (ticker: ^IXIC)\r\n",
        "    '''\r\n",
        "    df = yf.Ticker(sid).history(period = lookback_period).iloc[:,:5]\r\n",
        "    cond1 = (df['Close'] * 1.03 > df['High'].rolling(22).max())\r\n",
        "    cond2 = ((df['Close'] - df['Open']) > abs(df['Open'] - df['Close']).rolling(10).mean() * 2.5)\r\n",
        "    cond3 = (df['Volume'] > df['Volume'].rolling(5).mean() * 1.3)\r\n",
        "    duo_ma = df['Close'].rolling(5).mean() >= df['Close'].rolling(10).mean()\r\n",
        "    cond4 = ((duo_ma == True) & ((duo_ma != duo_ma.shift()).rolling(5).sum() == 1))\r\n",
        "    Y = df['Close'].pct_change().shift(-1) > yf.Ticker('^IXIC').history(period = lookback_period).iloc[:,3].pct_change().shift(-1)\r\n",
        "    data = pd.concat([cond1, cond2, cond3, cond4, Y], axis = 1)\r\n",
        "    data.columns = ['x1','x2','x3','x4','Y']\r\n",
        "    \r\n",
        "    # 已經調用過未來一天的預測，故需在原資料刪除\r\n",
        "    data = data[:-1]\r\n",
        "    return data\r\n",
        "\r\n",
        "\r\n",
        "# 從候選股中擇一做ROC/AUC檢定，回測過去30個月\r\n",
        "data = roc_auc('FTV','30mo')\r\n",
        "\r\n",
        "# 訓練集為回測區間的前80%，測試集為回測區間的後20%\r\n",
        "train_data, test_data = data[ :int(len(data) *0.8)], data[int(len(data) *0.8): ]\r\n",
        "\r\n",
        "train_x = train_data.loc[:,'x1':'x4'].values\r\n",
        "train_y = train_data['Y'].values\r\n",
        "test_x = test_data.loc[:,'x1':'x4'].values\r\n",
        "test_y = test_data['Y'].values\r\n",
        "\r\n",
        "clf = RandomForestClassifier(n_estimators = 21,\r\n",
        "                             max_depth = 10,\r\n",
        "                             criterion = 'entropy')\r\n",
        "\r\n",
        "model = clf.fit(train_x,train_y)  \r\n",
        "train_acc = accuracy_score(train_y, model.predict(train_x))\r\n",
        "test_acc = accuracy_score(test_y, model.predict(test_x))\r\n",
        "test_roc_auc = roc_auc_score(test_y, model.predict( test_x))\r\n",
        "\r\n",
        "result = pd.DataFrame(\r\n",
        "    [ (train_acc, test_acc, test_roc_auc) ],\r\n",
        "    columns= ['訓練集準度','測試集準度','測試集ROC_AUC'],\r\n",
        "    )\r\n",
        "\r\n",
        "result"
      ],
      "outputs": [
        {
          "output_type": "execute_result",
          "data": {
            "text/html": [
              "<div>\n",
              "<style scoped>\n",
              "    .dataframe tbody tr th:only-of-type {\n",
              "        vertical-align: middle;\n",
              "    }\n",
              "\n",
              "    .dataframe tbody tr th {\n",
              "        vertical-align: top;\n",
              "    }\n",
              "\n",
              "    .dataframe thead th {\n",
              "        text-align: right;\n",
              "    }\n",
              "</style>\n",
              "<table border=\"1\" class=\"dataframe\">\n",
              "  <thead>\n",
              "    <tr style=\"text-align: right;\">\n",
              "      <th></th>\n",
              "      <th>訓練集準度</th>\n",
              "      <th>測試集準度</th>\n",
              "      <th>測試集ROC_AUC</th>\n",
              "    </tr>\n",
              "  </thead>\n",
              "  <tbody>\n",
              "    <tr>\n",
              "      <th>0</th>\n",
              "      <td>0.553571</td>\n",
              "      <td>0.484127</td>\n",
              "      <td>0.479587</td>\n",
              "    </tr>\n",
              "  </tbody>\n",
              "</table>\n",
              "</div>"
            ],
            "text/plain": [
              "      訓練集準度     測試集準度  測試集ROC_AUC\n",
              "0  0.553571  0.484127    0.479587"
            ]
          },
          "metadata": {},
          "execution_count": 3
        }
      ],
      "metadata": {
        "colab": {
          "base_uri": "https://localhost:8080/",
          "height": 80
        },
        "id": "Kk3Ice4mSZF-",
        "outputId": "5b3ec96a-b715-44b5-c500-9c0d4c8d6f95"
      }
    }
  ]
}