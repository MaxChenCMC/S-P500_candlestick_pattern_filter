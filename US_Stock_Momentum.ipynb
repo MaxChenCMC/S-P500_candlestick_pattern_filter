{
  "nbformat": 4,
  "nbformat_minor": 0,
  "metadata": {
    "colab": {
      "name": "US_Stock_Momentum.ipynb",
      "provenance": [],
      "collapsed_sections": []
    },
    "kernelspec": {
      "name": "python3",
      "display_name": "Python 3"
    }
  },
  "cells": [
    {
      "cell_type": "code",
      "metadata": {
        "id": "CIBrArNhfoEx",
        "colab_type": "code",
        "colab": {
          "base_uri": "https://localhost:8080/",
          "height": 339
        },
        "outputId": "e6e87ccb-69eb-45ac-8f49-d4b3da1c5c90"
      },
      "source": [
        "!pip install -q yfinance\n",
        "import yfinance as yf\n",
        "import numpy as np\n",
        "import pandas as pd\n",
        "from tqdm import tqdm\n",
        "import requests, datetime, warnings; warnings.filterwarnings('ignore')\n",
        "\n",
        "web = requests.get('https://www.slickcharts.com/sp500', headers = {\n",
        "    'User-Agent':\n",
        "    'Mozilla/5.0 (Windows NT 10.0; Win64; x64) AppleWebKit/537.36 (KHTML, like Gecko) Chrome/81.0.4044.129 Safari/537.36',\n",
        "    'Cookie':\n",
        "    '__cfduid=d5dfad8b027968f1e5343b12344c40b411589085610; __gads=ID=b9d937a52978676a:T=1589085611:S=ALNI_MbVxIVEYstVYL4AAbn8z9PQK5Ly5w; _ga=GA1.2.1992907524.1589085611; _gid=GA1.2.2067687858.1589085611; _hjid=320dcfcb-1a79-43bf-aa54-f25fba2bed79; _hjIncludedInSample=1'}\n",
        "    ).text  \n",
        "sid1 = pd.read_html(web)[0]['Symbol'].apply(lambda x: x.replace('.', '-')).to_list()\n",
        "sid2 = pd.read_html('https://finance.yahoo.com/screener/predefined/day_gainers?offset=0&count=100')[0].Symbol.to_list()\n",
        "sid3 = pd.read_html('https://finance.yahoo.com/screener/predefined/small_cap_gainers?offset=0&count=100')[0].Symbol.to_list() \n",
        "sid4 = pd.read_html('https://finance.yahoo.com/screener/predefined/most_actives?offset=0&count=100')[0].Symbol.to_list() \n",
        "sid5 = pd.read_html('https://finance.yahoo.com/screener/predefined/growth_technology_stocks')[0].Symbol.to_list() \n",
        "sid6 = pd.read_html('https://finance.yahoo.com/screener/predefined/undervalued_growth_stocks?offset=0&count=100')[0].Symbol.to_list() \n",
        "sid7 = pd.read_html('https://finance.yahoo.com/screener/predefined/undervalued_large_caps?offset=0&count=100')[0].Symbol.to_list()\n",
        "sid8 = pd.read_html('https://finance.yahoo.com/screener/predefined/aggressive_small_caps?offset=0&count=100')[0].Symbol.to_list()\n",
        "watchlist = set(sid1 + sid2 + sid3 + sid4 + sid5 + sid6 + sid7 + sid8)\n",
        "\n",
        "def ohlc(ticker):\n",
        "    start = datetime.date.today() - datetime.timedelta(400)\n",
        "    end = datetime.date.today()\n",
        "    df = pd.DataFrame(yf.download(ticker, start, end))[['Open','High','Low','Close','Volume']]\n",
        "    '''\n",
        "        1.跳空2% 當天\n",
        "        2.    2/10天\n",
        "        3.紅k3% 當天\n",
        "        4.    2/10天\n",
        "        5.高過高低不破低連3天\n",
        "        6.    6/10天\n",
        "        7.再3%就破10日新高\n",
        "        8.超過10均量2成\n",
        "    '''\n",
        "    df['jump2%'] = np.where( df['Open'] > df['Close'].shift()*1.02, 1, 0)\n",
        "    df['jump2%2'] = np.where( df['jump2%'].rolling(10).sum() >= 2, 1, 0)\n",
        "\n",
        "    df['red3%'] = np.where( df['Close'] > df['Open']*1.03, 1, 0)\n",
        "    df['red3%2'] = np.where( df['red3%'].rolling(10).sum() >= 2, 1, 0)\n",
        "\n",
        "    df['hhhl'] = np.where( (df['High'] > df['High'].shift()) & (df['Low'] > df['Low'].shift()), 1, 0)\n",
        "    df['hhhl3'] = np.where( df['hhhl'].rolling(3).sum() >= 3, 1, 0)\n",
        "    df['hhhl5'] = np.where( df['hhhl'].rolling(10).sum() >= 6, 1, 0)\n",
        "\n",
        "    df['breakout'] = np.where( df['Close']*1.03 > df['Close'].rolling(10).max(), 1, 0)\n",
        "    df['momentum'] = np.where( df['Volume'] > df['Volume'].rolling(10).mean()*1.2, 1, 0)\n",
        "\n",
        "    df.drop(['hhhl'],axis= 1, inplace= True)\n",
        "    return df\n",
        "\n",
        "long = []\n",
        "for i in tqdm(watchlist):\n",
        "    df = ohlc(i)\n",
        "    if df.iloc[-1:, 5:].values.sum() >= 7 : # 8個factors取幾？\n",
        "        long.append(i) \n",
        "\n",
        "long_ = [i for i in long if ohlc(i)['Close'][-1] >= 10] # list comprehension 也可以加filter\n",
        "print(f'做多：{long_}')"
      ],
      "execution_count": null,
      "outputs": [
        {
          "output_type": "stream",
          "text": [
            "  Building wheel for yfinance (setup.py) ... \u001b[?25l\u001b[?25hdone\n"
          ],
          "name": "stdout"
        },
        {
          "output_type": "stream",
          "text": [
            "\r  0%|          | 0/5 [00:00<?, ?it/s]"
          ],
          "name": "stderr"
        },
        {
          "output_type": "stream",
          "text": [
            "\r[*********************100%***********************]  1 of 1 completed"
          ],
          "name": "stdout"
        },
        {
          "output_type": "stream",
          "text": [
            "\r 20%|██        | 1/5 [00:00<00:00,  4.51it/s]"
          ],
          "name": "stderr"
        },
        {
          "output_type": "stream",
          "text": [
            "\n",
            "\r[*********************100%***********************]  1 of 1 completed"
          ],
          "name": "stdout"
        },
        {
          "output_type": "stream",
          "text": [
            "\r 40%|████      | 2/5 [00:00<00:00,  4.94it/s]"
          ],
          "name": "stderr"
        },
        {
          "output_type": "stream",
          "text": [
            "\n",
            "[*********************100%***********************]  1 of 1 completed"
          ],
          "name": "stdout"
        },
        {
          "output_type": "stream",
          "text": [
            "\r 60%|██████    | 3/5 [00:00<00:00,  5.29it/s]"
          ],
          "name": "stderr"
        },
        {
          "output_type": "stream",
          "text": [
            "\n",
            "[*********************100%***********************]  1 of 1 completed"
          ],
          "name": "stdout"
        },
        {
          "output_type": "stream",
          "text": [
            "\r 80%|████████  | 4/5 [00:00<00:00,  5.65it/s]"
          ],
          "name": "stderr"
        },
        {
          "output_type": "stream",
          "text": [
            "\n",
            "[*********************100%***********************]  1 of 1 completed"
          ],
          "name": "stdout"
        },
        {
          "output_type": "stream",
          "text": [
            "100%|██████████| 5/5 [00:00<00:00,  5.91it/s]"
          ],
          "name": "stderr"
        },
        {
          "output_type": "stream",
          "text": [
            "\n"
          ],
          "name": "stdout"
        },
        {
          "output_type": "stream",
          "text": [
            "\n"
          ],
          "name": "stderr"
        },
        {
          "output_type": "stream",
          "text": [
            "[*********************100%***********************]  1 of 1 completed\n",
            "[*********************100%***********************]  1 of 1 completed\n",
            "[*********************100%***********************]  1 of 1 completed\n",
            "[*********************100%***********************]  1 of 1 completed\n",
            "[*********************100%***********************]  1 of 1 completed\n",
            "做多：['AN', 'IPOAF', 'SAM', 'KTOS', 'AMD']\n"
          ],
          "name": "stdout"
        }
      ]
    },
    {
      "cell_type": "code",
      "metadata": {
        "id": "5-Zydmn9C1lD",
        "colab_type": "code",
        "colab": {
          "base_uri": "https://localhost:8080/",
          "height": 211
        },
        "outputId": "4a483879-92d9-431b-bf92-a1148e4f73c9"
      },
      "source": [
        "from sklearn.metrics import accuracy_score, classification_report, roc_auc_score\n",
        "from sklearn.ensemble import RandomForestClassifier\n",
        "\n",
        "def rfclf(ticker, benchmark):\n",
        "    ticker, benchmark = ticker , benchmark \n",
        "    df = ohlc(ticker)\n",
        "    df['chg%'] = round(df['Close'].pct_change()*100, 3)\n",
        "    df['benchmark%'] = round(ohlc(benchmark)['Close'].pct_change()*100, 3)\n",
        "    df['beat_benchmark'] = np.where( df['chg%'] > df['benchmark%'], 1, 0)\n",
        "    df['will_beat_benchmark'] = np.where( df['chg%'].shift(-1) > df['benchmark%'].shift(-1), 1, 0)\n",
        "    df.drop(['chg%','benchmark%'],axis= 1, inplace= True) # 丟掉2欄 也就是剩新增1欄feature跟1欄label\n",
        "    df = df[1:-1] # 去頭去尾\n",
        "\n",
        "    df_ = df.iloc[:, 5:]\n",
        "    train_data, test_data = df_[ :int(len(df_) *0.8)], df_[int(len(df_) *0.8): ]\n",
        "    train_x = train_data.loc[:,'jump2%':'beat_benchmark'].values\n",
        "    train_y = train_data['will_beat_benchmark'].values\n",
        "    test_x = test_data.loc[:,'jump2%':'beat_benchmark'].values\n",
        "    test_y = test_data['will_beat_benchmark'].values\n",
        "\n",
        "    clf = RandomForestClassifier(n_estimators = 21,\n",
        "                                 max_depth = 10,\n",
        "                                 criterion = 'entropy')\n",
        "    model = clf.fit(train_x,train_y)  \n",
        "    train_acc, test_acc = accuracy_score(train_y, model.predict(train_x)), accuracy_score(test_y, model.predict(test_x))\n",
        "    test_roc_auc = roc_auc_score(test_y, model.predict( test_x))\n",
        "    return  [ticker, train_acc, test_acc, test_roc_auc]\n",
        "\n",
        "data = []\n",
        "for i in long_:\n",
        "    j = rfclf( i, '^GSPC')\n",
        "    data.append(j)\n",
        "\n",
        "res = pd.DataFrame(data, columns= ['股號','訓練集準度','測試集準度','測試集ROC_AUC']).sort_values(by='測試集準度', ascending= False)\n",
        "res[ res['測試集準度'] >= 0.5]"
      ],
      "execution_count": null,
      "outputs": [
        {
          "output_type": "stream",
          "text": [
            "[*********************100%***********************]  1 of 1 completed\n",
            "[*********************100%***********************]  1 of 1 completed\n",
            "[*********************100%***********************]  1 of 1 completed\n",
            "[*********************100%***********************]  1 of 1 completed\n",
            "[*********************100%***********************]  1 of 1 completed\n",
            "[*********************100%***********************]  1 of 1 completed\n",
            "[*********************100%***********************]  1 of 1 completed\n",
            "[*********************100%***********************]  1 of 1 completed\n"
          ],
          "name": "stdout"
        },
        {
          "output_type": "execute_result",
          "data": {
            "text/html": [
              "<div>\n",
              "<style scoped>\n",
              "    .dataframe tbody tr th:only-of-type {\n",
              "        vertical-align: middle;\n",
              "    }\n",
              "\n",
              "    .dataframe tbody tr th {\n",
              "        vertical-align: top;\n",
              "    }\n",
              "\n",
              "    .dataframe thead th {\n",
              "        text-align: right;\n",
              "    }\n",
              "</style>\n",
              "<table border=\"1\" class=\"dataframe\">\n",
              "  <thead>\n",
              "    <tr style=\"text-align: right;\">\n",
              "      <th></th>\n",
              "      <th>股號</th>\n",
              "      <th>訓練集準度</th>\n",
              "      <th>測試集準度</th>\n",
              "      <th>測試集ROC_AUC</th>\n",
              "    </tr>\n",
              "  </thead>\n",
              "  <tbody>\n",
              "    <tr>\n",
              "      <th>0</th>\n",
              "      <td>AN</td>\n",
              "      <td>0.66055</td>\n",
              "      <td>0.545455</td>\n",
              "      <td>0.559019</td>\n",
              "    </tr>\n",
              "  </tbody>\n",
              "</table>\n",
              "</div>"
            ],
            "text/plain": [
              "   股號    訓練集準度     測試集準度  測試集ROC_AUC\n",
              "0  AN  0.66055  0.545455    0.559019"
            ]
          },
          "metadata": {
            "tags": []
          },
          "execution_count": 2
        }
      ]
    }
  ]
}