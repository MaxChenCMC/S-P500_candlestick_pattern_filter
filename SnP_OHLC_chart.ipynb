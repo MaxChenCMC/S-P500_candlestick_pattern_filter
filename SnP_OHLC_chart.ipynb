{
  "nbformat": 4,
  "nbformat_minor": 0,
  "metadata": {
    "colab": {
      "name": "Untitled0.ipynb",
      "provenance": []
    },
    "kernelspec": {
      "name": "python3",
      "display_name": "Python 3"
    }
  },
  "cells": [
    {
      "cell_type": "markdown",
      "metadata": {
        "id": "lcUimA66Qnf0",
        "colab_type": "text"
      },
      "source": [
        "# 交易策略：搜尋過去10個交易日裡的強勢&弱勢股\n",
        "##買進標準：\n",
        ">* 跳空開高2%以上的天數 > 1\n",
        ">* 長紅k3%以上的天數 > 2\n",
        ">* 今日高比前一天的高還高&今日低比前一天的低點還高 的天數 > 5\n",
        ">* 次日只要再漲3%就會創近10日新高\n",
        ">* 近3日均量超過近10日均量的20%\n",
        "---\n",
        "##賣出標準：\n",
        ">* 跳水跌2%以上的天數 1\n",
        ">* 黑k3%以上的天數 > 2\n",
        ">* 今日高沒過前一天的高 且 今日低卻跌破前一天的低 的天數 > 5\n",
        ">* 次日只要再跌超過3%就會創近10日新低\n",
        ">* 黑k的天數中、上影線超過1%的天數 > 1\n"
      ]
    },
    {
      "cell_type": "code",
      "metadata": {
        "id": "17XWw_7OQkda",
        "colab_type": "code",
        "colab": {
          "base_uri": "https://localhost:8080/",
          "height": 153
        },
        "outputId": "1cf9edf0-1f90-4058-fa54-c3d23a4011b7"
      },
      "source": [
        "!pip install -q  yfinance # 用 colab執行時，才需每次運行時都安裝此模組\n",
        "import yfinance as yf\n",
        "import pandas as pd\n",
        "from tqdm import tqdm\n",
        "def ohlc(ticker, days = -10):\n",
        "    return pd.DataFrame(yf.Ticker(ticker).history()[days:])[['Open','High','Low','Close','Volume']]\n",
        "\n",
        "# 筆者自製的標普500成份股\n",
        "sid1 = pd.read_csv('https://raw.githubusercontent.com/MaxChenCMC/SnP500_candlestick_pattern_filter/master/S%26P500.csv')['Symbol'].to_list() \n",
        "# yahoo finance的screener多種主題選股\n",
        "sid2 = pd.read_html('https://finance.yahoo.com/screener/predefined/day_gainers?count=100&offset=0')[0].Symbol.to_list()\n",
        "sid3 = pd.read_html('https://finance.yahoo.com/screener/predefined/small_cap_gainers?count=100&offset=0')[0].Symbol.to_list() \n",
        "sid4 = pd.read_html('https://finance.yahoo.com/screener/predefined/most_actives?count=100&offset=0')[0].Symbol.to_list() \n",
        "sid5 = pd.read_html('https://finance.yahoo.com/screener/predefined/growth_technology_stocks?count=100&offset=0')[0].Symbol.to_list() \n",
        "sid6 = pd.read_html('https://finance.yahoo.com/screener/predefined/undervalued_growth_stocks?count=100&offset=0')[0].Symbol.to_list() \n",
        "sid7 = pd.read_html('https://finance.yahoo.com/screener/predefined/undervalued_large_caps?count=100&offset=0')[0].Symbol.to_list()\n",
        "sid8 = pd.read_html('https://finance.yahoo.com/screener/predefined/aggressive_small_caps?count=100&offset=0')[0].Symbol.to_list()\n",
        "# 把以上撈出的股號做成 watchlist觀察清單\n",
        "watchlist = set(sid1 + sid2 + sid3 + sid4 + sid5 + sid6 + sid7 + sid8)\n",
        "\n",
        "# 選股條件的係數，若篩出股票太多就把係數調高(變嚴格)\n",
        "x1, x2, x3, x4, x5 = 1, 2, 5, 0.03, 1.2\n",
        "\n",
        "long = []\n",
        "short = []\n",
        "for i in tqdm(watchlist):\n",
        "    res = ohlc(str(i),-10)\n",
        "    try:\n",
        "        if ( (len([res['Open'] > res['Close'].shift()*1.02]) >= x1) \n",
        "        & (len(res[res['Close'] > res['Open']*1.03]) >= x2) \n",
        "        & (len( res[(res['High'] > res['High'].shift()) & ( res['Low'] > res['Low'].shift())] ) >= x3) \n",
        "        & (res['Close'][-1]*(1+x4) >= res['High'][-10:].max()) \n",
        "        & (res['Volume'][-3:].mean() > res['Volume'][-10:].mean()*x5) ):\n",
        "            long.append(i) \n",
        "        elif ( (len(res[res['Open'] < res['Close'].shift()*0.98]) >= x1 )\n",
        "        &(len(res[res['Close']*1.03 < res['Open']]) >= x2 )\n",
        "        &(len(res[ (res['High'] < res['High'].shift()) &(res['Low'] < res['Low'].shift()) ]) >= x3)\n",
        "        &(res['Close'][-1]*(1-x4) <= res['Low'][-10:].min())\n",
        "        &(len( res[res['Close'] < res['Open']] [res['High'] > res['Open']*1.01] ) >= 1) ):\n",
        "            short.append(i) \n",
        "        else: pass\n",
        "    except Exception as e:\n",
        "        print('公司',i,'報價有誤，或許近日曾被暫停交易' )\n",
        "print('---'*20)\n",
        "print(f'做多{long}\\n做空{short}')"
      ],
      "execution_count": 1,
      "outputs": [
        {
          "output_type": "stream",
          "text": [
            "  Building wheel for yfinance (setup.py) ... \u001b[?25l\u001b[?25hdone\n"
          ],
          "name": "stdout"
        },
        {
          "output_type": "stream",
          "text": [
            "  0%|          | 0/929 [00:00<?, ?it/s]/usr/local/lib/python3.6/dist-packages/ipykernel_launcher.py:36: UserWarning: Boolean Series key will be reindexed to match DataFrame index.\n",
            " 23%|██▎       | 216/929 [00:25<01:23,  8.53it/s]"
          ],
          "name": "stderr"
        },
        {
          "output_type": "stream",
          "text": [
            "- RTN: No data found for this date range, symbol may be delisted\n",
            "公司 RTN 報價有誤，或許近日曾被暫停交易\n"
          ],
          "name": "stdout"
        },
        {
          "output_type": "stream",
          "text": [
            "100%|██████████| 929/929 [01:49<00:00,  8.48it/s]"
          ],
          "name": "stderr"
        },
        {
          "output_type": "stream",
          "text": [
            "------------------------------------------------------------\n",
            "做多['ABR', 'WORK', 'OCFT', 'RNG', 'SONO', 'AXL', 'RCII', 'PYPL', 'PRMW', 'MRNA', 'PRTS', 'SQ', 'TWLO', 'UI', 'LNC', 'DLPH', 'FLIR']\n",
            "做空['ALXN', 'DLR']\n"
          ],
          "name": "stdout"
        },
        {
          "output_type": "stream",
          "text": [
            "\n"
          ],
          "name": "stderr"
        }
      ]
    },
    {
      "cell_type": "markdown",
      "metadata": {
        "id": "a2z8vvUeRh2h",
        "colab_type": "text"
      },
      "source": [
        "# 在finviz開啟\n",
        "把網址後綴的股號字串替換成本次篩選出來的即可"
      ]
    },
    {
      "cell_type": "code",
      "metadata": {
        "id": "mtriTl6vRgHU",
        "colab_type": "code",
        "colab": {}
      },
      "source": [
        "import webbrowser\n",
        "webbrowser.open_new('https://www.finviz.com/screener.ashx?v=211&t=' + long) # colab無法開啟網頁，需手動貼上網址"
      ],
      "execution_count": 0,
      "outputs": []
    },
    {
      "cell_type": "markdown",
      "metadata": {
        "id": "pFz9eMMVUdsL",
        "colab_type": "text"
      },
      "source": [
        "![img](https://i.imgur.com/O9mAKYq.png)"
      ]
    }
  ]
}
